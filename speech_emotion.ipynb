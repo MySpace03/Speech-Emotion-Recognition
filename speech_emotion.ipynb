{
  "nbformat": 4,
  "nbformat_minor": 0,
  "metadata": {
    "colab": {
      "provenance": []
    },
    "kernelspec": {
      "name": "python3",
      "display_name": "Python 3"
    },
    "language_info": {
      "name": "python"
    }
  },
  "cells": [
    {
      "cell_type": "markdown",
      "source": [
        "Importing Library for our project"
      ],
      "metadata": {
        "id": "x1bBbYYlYmKT"
      }
    },
    {
      "cell_type": "code",
      "source": [
        "import librosa\n",
        "import soundfile\n",
        "import os, glob, pickle\n",
        "import numpy as np\n",
        "from sklearn.model_selection import train_test_split\n",
        "from sklearn.neural_network import MLPClassifier\n",
        "from sklearn.metrics import accuracy_score"
      ],
      "metadata": {
        "id": "4miDHanPYgnb"
      },
      "execution_count": 118,
      "outputs": []
    },
    {
      "cell_type": "code",
      "source": [
        "from google.colab import drive\n",
        "drive.mount('/content/drive')"
      ],
      "metadata": {
        "colab": {
          "base_uri": "https://localhost:8080/"
        },
        "id": "hJojdgrI9wOR",
        "outputId": "fb77498f-e080-4491-d4b6-f015db24d414"
      },
      "execution_count": 119,
      "outputs": [
        {
          "output_type": "stream",
          "name": "stdout",
          "text": [
            "Drive already mounted at /content/drive; to attempt to forcibly remount, call drive.mount(\"/content/drive\", force_remount=True).\n"
          ]
        }
      ]
    },
    {
      "cell_type": "markdown",
      "source": [
        "Extract features (mfcc, chroma, mel) from a sound file"
      ],
      "metadata": {
        "id": "pRb4roUJZEkM"
      }
    },
    {
      "cell_type": "code",
      "source": [
        "def extract_feature(file_name, mfcc, chroma, mel):\n",
        "    with soundfile.SoundFile(file_name) as sound_file:\n",
        "        X = sound_file.read(dtype=\"float32\")\n",
        "        sample_rate=sound_file.samplerate\n",
        "        if chroma:\n",
        "            stft=np.abs(librosa.stft(X))\n",
        "        result=np.array([])\n",
        "        if mfcc:\n",
        "            mfccs=np.mean(librosa.feature.mfcc(y=X, sr=sample_rate, n_mfcc=40).T, axis=0)\n",
        "            result=np.hstack((result, mfccs))\n",
        "        if chroma:\n",
        "            chroma=np.mean(librosa.feature.chroma_stft(S=stft, sr=sample_rate).T,axis=0)\n",
        "            result=np.hstack((result, chroma))\n",
        "        if mel:\n",
        "            mel=np.mean(librosa.feature.melspectrogram(X, sr=sample_rate).T,axis=0)\n",
        "            result=np.hstack((result, mel))\n",
        "    return result"
      ],
      "metadata": {
        "id": "jo-cD1CvY44G"
      },
      "execution_count": 120,
      "outputs": []
    },
    {
      "cell_type": "markdown",
      "source": [
        "Emotions in the RAVDESS dataset"
      ],
      "metadata": {
        "id": "1T0hR74xac5r"
      }
    },
    {
      "cell_type": "code",
      "source": [
        "emotions={\n",
        "  '01':'neutral',\n",
        "  '02':'calm',\n",
        "  '03':'happy',\n",
        "  '04':'sad',\n",
        "  '05':'angry',\n",
        "  '06':'fearful',\n",
        "  '07':'disgust',\n",
        "  '08':'surprised'\n",
        "}\n",
        "\n",
        "#Emotions to observe\n",
        "observed_emotions=['calm', 'happy', 'fearful', 'disgust']"
      ],
      "metadata": {
        "id": "I1XwLpV3aTbe"
      },
      "execution_count": 121,
      "outputs": []
    },
    {
      "cell_type": "markdown",
      "source": [
        "Load the data and extract features for each sound file"
      ],
      "metadata": {
        "id": "1mvrk_RKbQpX"
      }
    },
    {
      "cell_type": "code",
      "source": [
        "def load_data(test_size=0.2):\n",
        "    x,y=[],[]\n",
        "    for file in glob.glob(\"/content/drive/MyDrive/Data sets/Revdess Data set/Actor_*/*.wav\"):\n",
        "        file_name=os.path.basename(file)\n",
        "        emotion=emotions[file_name.split(\"-\")[2]]\n",
        "        if emotion not in observed_emotions:\n",
        "            continue\n",
        "        feature=extract_feature(file, mfcc=True, chroma=True, mel=True)\n",
        "        x.append(feature)\n",
        "        y.append(emotion)\n",
        "    return train_test_split(np.array(x), y, test_size=test_size, random_state=9)"
      ],
      "metadata": {
        "id": "KkYiQna3bSA8"
      },
      "execution_count": 122,
      "outputs": []
    },
    {
      "cell_type": "markdown",
      "source": [
        "Spliting data sets into training and testing"
      ],
      "metadata": {
        "id": "z132FeTgbg8A"
      }
    },
    {
      "cell_type": "code",
      "source": [
        "x_train,x_test,y_train,y_test=load_data(test_size=0.25)"
      ],
      "metadata": {
        "id": "_kCcv_qSbk1J"
      },
      "execution_count": 123,
      "outputs": []
    },
    {
      "cell_type": "markdown",
      "source": [
        "Observe the shape of the training and testing datasets:"
      ],
      "metadata": {
        "id": "Thev3DlGEz9N"
      }
    },
    {
      "cell_type": "code",
      "source": [
        "print((x_train.shape[0], x_test.shape[0]))"
      ],
      "metadata": {
        "id": "wDGHvFydEwyg",
        "colab": {
          "base_uri": "https://localhost:8080/"
        },
        "outputId": "070f61d2-5650-48c0-afb9-ac2307568335"
      },
      "execution_count": 124,
      "outputs": [
        {
          "output_type": "stream",
          "name": "stdout",
          "text": [
            "(576, 192)\n"
          ]
        }
      ]
    },
    {
      "cell_type": "markdown",
      "source": [
        "And get the number of features extracted."
      ],
      "metadata": {
        "id": "rsZMFwMAE7sD"
      }
    },
    {
      "cell_type": "code",
      "source": [
        "print(f'Features extracted: {x_train.shape[1]}')"
      ],
      "metadata": {
        "colab": {
          "base_uri": "https://localhost:8080/"
        },
        "id": "VPQwaSeDE8hS",
        "outputId": "32f8ef3e-c990-4a89-b587-aebe4c3873b3"
      },
      "execution_count": 125,
      "outputs": [
        {
          "output_type": "stream",
          "name": "stdout",
          "text": [
            "Features extracted: 180\n"
          ]
        }
      ]
    },
    {
      "cell_type": "markdown",
      "source": [
        "Now, let’s initialize an MLPClassifier"
      ],
      "metadata": {
        "id": "JQMJJKlKFC06"
      }
    },
    {
      "cell_type": "code",
      "source": [
        "model=MLPClassifier(alpha=0.01, batch_size=256, epsilon=1e-08, hidden_layer_sizes=(300,), learning_rate='adaptive', max_iter=500)"
      ],
      "metadata": {
        "id": "gQr6XTWHFF7R"
      },
      "execution_count": 126,
      "outputs": []
    },
    {
      "cell_type": "markdown",
      "source": [
        "Fit/train the model."
      ],
      "metadata": {
        "id": "j6mLdkthFMsJ"
      }
    },
    {
      "cell_type": "code",
      "source": [
        "model.fit(x_train,y_train)"
      ],
      "metadata": {
        "colab": {
          "base_uri": "https://localhost:8080/"
        },
        "id": "Qx4xBjcEFNfr",
        "outputId": "0f0c1e71-79a1-4acf-f0ea-90fd50eed259"
      },
      "execution_count": 127,
      "outputs": [
        {
          "output_type": "execute_result",
          "data": {
            "text/plain": [
              "MLPClassifier(alpha=0.01, batch_size=256, hidden_layer_sizes=(300,),\n",
              "              learning_rate='adaptive', max_iter=500)"
            ]
          },
          "metadata": {},
          "execution_count": 127
        }
      ]
    },
    {
      "cell_type": "markdown",
      "source": [
        "Let’s predict the values for the test set. This gives us y_pred"
      ],
      "metadata": {
        "id": "sCoPUxF3FXru"
      }
    },
    {
      "cell_type": "code",
      "source": [
        "y_pred=model.predict(x_test)"
      ],
      "metadata": {
        "id": "-RNmTTX4FP3e"
      },
      "execution_count": 128,
      "outputs": []
    },
    {
      "cell_type": "code",
      "source": [
        "y_pred"
      ],
      "metadata": {
        "colab": {
          "base_uri": "https://localhost:8080/"
        },
        "id": "LvqdUa5Ao_-o",
        "outputId": "cc2af09a-5c8a-43f4-bac4-05a45d6b159e"
      },
      "execution_count": 129,
      "outputs": [
        {
          "output_type": "execute_result",
          "data": {
            "text/plain": [
              "array(['happy', 'happy', 'calm', 'calm', 'fearful', 'happy', 'happy',\n",
              "       'disgust', 'disgust', 'calm', 'fearful', 'disgust', 'calm', 'calm',\n",
              "       'happy', 'disgust', 'disgust', 'disgust', 'fearful', 'fearful',\n",
              "       'fearful', 'disgust', 'fearful', 'fearful', 'calm', 'disgust',\n",
              "       'happy', 'disgust', 'fearful', 'calm', 'disgust', 'disgust',\n",
              "       'happy', 'calm', 'happy', 'disgust', 'calm', 'disgust', 'calm',\n",
              "       'happy', 'happy', 'fearful', 'calm', 'disgust', 'disgust',\n",
              "       'fearful', 'disgust', 'disgust', 'calm', 'disgust', 'fearful',\n",
              "       'fearful', 'fearful', 'disgust', 'happy', 'fearful', 'disgust',\n",
              "       'happy', 'calm', 'happy', 'fearful', 'happy', 'disgust', 'calm',\n",
              "       'fearful', 'calm', 'happy', 'fearful', 'disgust', 'calm',\n",
              "       'fearful', 'fearful', 'fearful', 'fearful', 'fearful', 'disgust',\n",
              "       'disgust', 'happy', 'fearful', 'happy', 'disgust', 'disgust',\n",
              "       'happy', 'fearful', 'disgust', 'happy', 'disgust', 'happy',\n",
              "       'fearful', 'calm', 'fearful', 'fearful', 'calm', 'happy',\n",
              "       'fearful', 'fearful', 'calm', 'calm', 'disgust', 'disgust',\n",
              "       'fearful', 'disgust', 'fearful', 'disgust', 'disgust', 'fearful',\n",
              "       'happy', 'happy', 'happy', 'fearful', 'happy', 'calm', 'fearful',\n",
              "       'calm', 'happy', 'fearful', 'calm', 'fearful', 'disgust', 'calm',\n",
              "       'happy', 'fearful', 'fearful', 'fearful', 'fearful', 'happy',\n",
              "       'disgust', 'fearful', 'disgust', 'happy', 'calm', 'happy',\n",
              "       'fearful', 'disgust', 'happy', 'fearful', 'happy', 'disgust',\n",
              "       'calm', 'disgust', 'disgust', 'fearful', 'fearful', 'fearful',\n",
              "       'happy', 'happy', 'disgust', 'happy', 'disgust', 'fearful',\n",
              "       'disgust', 'happy', 'disgust', 'disgust', 'disgust', 'happy',\n",
              "       'disgust', 'fearful', 'calm', 'disgust', 'fearful', 'happy',\n",
              "       'calm', 'happy', 'fearful', 'happy', 'happy', 'fearful', 'fearful',\n",
              "       'happy', 'happy', 'calm', 'fearful', 'disgust', 'calm', 'happy',\n",
              "       'fearful', 'fearful', 'calm', 'fearful', 'disgust', 'disgust',\n",
              "       'calm', 'happy', 'fearful', 'fearful', 'happy', 'fearful', 'happy',\n",
              "       'disgust', 'fearful', 'fearful'], dtype='<U7')"
            ]
          },
          "metadata": {},
          "execution_count": 129
        }
      ]
    },
    {
      "cell_type": "markdown",
      "source": [
        "To calculate the accuracy of our model, we’ll call up the accuracy_score() function we imported from sklearn. Finally, we’ll round the accuracy to 2 decimal places and print it out."
      ],
      "metadata": {
        "id": "lUiZ53q5Fdt9"
      }
    },
    {
      "cell_type": "code",
      "source": [
        "accuracy=accuracy_score(y_true=y_test, y_pred=y_pred)\n",
        "\n",
        "print(\"Accuracy: {:.2f}%\".format(accuracy*100))"
      ],
      "metadata": {
        "colab": {
          "base_uri": "https://localhost:8080/"
        },
        "id": "DlZqg5XPFe93",
        "outputId": "54d94a7a-eef1-4faf-91a7-7d9af3154517"
      },
      "execution_count": 130,
      "outputs": [
        {
          "output_type": "stream",
          "name": "stdout",
          "text": [
            "Accuracy: 73.96%\n"
          ]
        }
      ]
    },
    {
      "cell_type": "code",
      "source": [
        "from sklearn.metrics import accuracy_score, f1_score"
      ],
      "metadata": {
        "id": "KCouon0Upf3q"
      },
      "execution_count": 131,
      "outputs": []
    },
    {
      "cell_type": "code",
      "source": [
        "f1_score(y_test, y_pred,average=None)"
      ],
      "metadata": {
        "colab": {
          "base_uri": "https://localhost:8080/"
        },
        "id": "2tScTnusqP-x",
        "outputId": "98cb18f4-81a7-4f43-ba59-0e257ada40a1"
      },
      "execution_count": 132,
      "outputs": [
        {
          "output_type": "execute_result",
          "data": {
            "text/plain": [
              "array([0.74698795, 0.68888889, 0.77876106, 0.73469388])"
            ]
          },
          "metadata": {},
          "execution_count": 132
        }
      ]
    },
    {
      "cell_type": "code",
      "source": [
        "import pandas as pd\n",
        "df=pd.DataFrame({'Actual': y_test, 'Predicted':y_pred})\n",
        "df.head(20)"
      ],
      "metadata": {
        "colab": {
          "base_uri": "https://localhost:8080/",
          "height": 676
        },
        "id": "s4tKRcGAqSby",
        "outputId": "4cf3673d-52ef-429c-b61a-b5dc47e5f961"
      },
      "execution_count": 133,
      "outputs": [
        {
          "output_type": "execute_result",
          "data": {
            "text/plain": [
              "     Actual Predicted\n",
              "0     happy     happy\n",
              "1   fearful     happy\n",
              "2      calm      calm\n",
              "3      calm      calm\n",
              "4   fearful   fearful\n",
              "5     happy     happy\n",
              "6     happy     happy\n",
              "7     happy   disgust\n",
              "8   disgust   disgust\n",
              "9      calm      calm\n",
              "10  fearful   fearful\n",
              "11  disgust   disgust\n",
              "12     calm      calm\n",
              "13     calm      calm\n",
              "14  disgust     happy\n",
              "15  disgust   disgust\n",
              "16    happy   disgust\n",
              "17  fearful   disgust\n",
              "18  fearful   fearful\n",
              "19     calm   fearful"
            ],
            "text/html": [
              "\n",
              "  <div id=\"df-d7fe076d-6bab-4558-8d9a-7a996bf9eb16\">\n",
              "    <div class=\"colab-df-container\">\n",
              "      <div>\n",
              "<style scoped>\n",
              "    .dataframe tbody tr th:only-of-type {\n",
              "        vertical-align: middle;\n",
              "    }\n",
              "\n",
              "    .dataframe tbody tr th {\n",
              "        vertical-align: top;\n",
              "    }\n",
              "\n",
              "    .dataframe thead th {\n",
              "        text-align: right;\n",
              "    }\n",
              "</style>\n",
              "<table border=\"1\" class=\"dataframe\">\n",
              "  <thead>\n",
              "    <tr style=\"text-align: right;\">\n",
              "      <th></th>\n",
              "      <th>Actual</th>\n",
              "      <th>Predicted</th>\n",
              "    </tr>\n",
              "  </thead>\n",
              "  <tbody>\n",
              "    <tr>\n",
              "      <th>0</th>\n",
              "      <td>happy</td>\n",
              "      <td>happy</td>\n",
              "    </tr>\n",
              "    <tr>\n",
              "      <th>1</th>\n",
              "      <td>fearful</td>\n",
              "      <td>happy</td>\n",
              "    </tr>\n",
              "    <tr>\n",
              "      <th>2</th>\n",
              "      <td>calm</td>\n",
              "      <td>calm</td>\n",
              "    </tr>\n",
              "    <tr>\n",
              "      <th>3</th>\n",
              "      <td>calm</td>\n",
              "      <td>calm</td>\n",
              "    </tr>\n",
              "    <tr>\n",
              "      <th>4</th>\n",
              "      <td>fearful</td>\n",
              "      <td>fearful</td>\n",
              "    </tr>\n",
              "    <tr>\n",
              "      <th>5</th>\n",
              "      <td>happy</td>\n",
              "      <td>happy</td>\n",
              "    </tr>\n",
              "    <tr>\n",
              "      <th>6</th>\n",
              "      <td>happy</td>\n",
              "      <td>happy</td>\n",
              "    </tr>\n",
              "    <tr>\n",
              "      <th>7</th>\n",
              "      <td>happy</td>\n",
              "      <td>disgust</td>\n",
              "    </tr>\n",
              "    <tr>\n",
              "      <th>8</th>\n",
              "      <td>disgust</td>\n",
              "      <td>disgust</td>\n",
              "    </tr>\n",
              "    <tr>\n",
              "      <th>9</th>\n",
              "      <td>calm</td>\n",
              "      <td>calm</td>\n",
              "    </tr>\n",
              "    <tr>\n",
              "      <th>10</th>\n",
              "      <td>fearful</td>\n",
              "      <td>fearful</td>\n",
              "    </tr>\n",
              "    <tr>\n",
              "      <th>11</th>\n",
              "      <td>disgust</td>\n",
              "      <td>disgust</td>\n",
              "    </tr>\n",
              "    <tr>\n",
              "      <th>12</th>\n",
              "      <td>calm</td>\n",
              "      <td>calm</td>\n",
              "    </tr>\n",
              "    <tr>\n",
              "      <th>13</th>\n",
              "      <td>calm</td>\n",
              "      <td>calm</td>\n",
              "    </tr>\n",
              "    <tr>\n",
              "      <th>14</th>\n",
              "      <td>disgust</td>\n",
              "      <td>happy</td>\n",
              "    </tr>\n",
              "    <tr>\n",
              "      <th>15</th>\n",
              "      <td>disgust</td>\n",
              "      <td>disgust</td>\n",
              "    </tr>\n",
              "    <tr>\n",
              "      <th>16</th>\n",
              "      <td>happy</td>\n",
              "      <td>disgust</td>\n",
              "    </tr>\n",
              "    <tr>\n",
              "      <th>17</th>\n",
              "      <td>fearful</td>\n",
              "      <td>disgust</td>\n",
              "    </tr>\n",
              "    <tr>\n",
              "      <th>18</th>\n",
              "      <td>fearful</td>\n",
              "      <td>fearful</td>\n",
              "    </tr>\n",
              "    <tr>\n",
              "      <th>19</th>\n",
              "      <td>calm</td>\n",
              "      <td>fearful</td>\n",
              "    </tr>\n",
              "  </tbody>\n",
              "</table>\n",
              "</div>\n",
              "      <button class=\"colab-df-convert\" onclick=\"convertToInteractive('df-d7fe076d-6bab-4558-8d9a-7a996bf9eb16')\"\n",
              "              title=\"Convert this dataframe to an interactive table.\"\n",
              "              style=\"display:none;\">\n",
              "        \n",
              "  <svg xmlns=\"http://www.w3.org/2000/svg\" height=\"24px\"viewBox=\"0 0 24 24\"\n",
              "       width=\"24px\">\n",
              "    <path d=\"M0 0h24v24H0V0z\" fill=\"none\"/>\n",
              "    <path d=\"M18.56 5.44l.94 2.06.94-2.06 2.06-.94-2.06-.94-.94-2.06-.94 2.06-2.06.94zm-11 1L8.5 8.5l.94-2.06 2.06-.94-2.06-.94L8.5 2.5l-.94 2.06-2.06.94zm10 10l.94 2.06.94-2.06 2.06-.94-2.06-.94-.94-2.06-.94 2.06-2.06.94z\"/><path d=\"M17.41 7.96l-1.37-1.37c-.4-.4-.92-.59-1.43-.59-.52 0-1.04.2-1.43.59L10.3 9.45l-7.72 7.72c-.78.78-.78 2.05 0 2.83L4 21.41c.39.39.9.59 1.41.59.51 0 1.02-.2 1.41-.59l7.78-7.78 2.81-2.81c.8-.78.8-2.07 0-2.86zM5.41 20L4 18.59l7.72-7.72 1.47 1.35L5.41 20z\"/>\n",
              "  </svg>\n",
              "      </button>\n",
              "      \n",
              "  <style>\n",
              "    .colab-df-container {\n",
              "      display:flex;\n",
              "      flex-wrap:wrap;\n",
              "      gap: 12px;\n",
              "    }\n",
              "\n",
              "    .colab-df-convert {\n",
              "      background-color: #E8F0FE;\n",
              "      border: none;\n",
              "      border-radius: 50%;\n",
              "      cursor: pointer;\n",
              "      display: none;\n",
              "      fill: #1967D2;\n",
              "      height: 32px;\n",
              "      padding: 0 0 0 0;\n",
              "      width: 32px;\n",
              "    }\n",
              "\n",
              "    .colab-df-convert:hover {\n",
              "      background-color: #E2EBFA;\n",
              "      box-shadow: 0px 1px 2px rgba(60, 64, 67, 0.3), 0px 1px 3px 1px rgba(60, 64, 67, 0.15);\n",
              "      fill: #174EA6;\n",
              "    }\n",
              "\n",
              "    [theme=dark] .colab-df-convert {\n",
              "      background-color: #3B4455;\n",
              "      fill: #D2E3FC;\n",
              "    }\n",
              "\n",
              "    [theme=dark] .colab-df-convert:hover {\n",
              "      background-color: #434B5C;\n",
              "      box-shadow: 0px 1px 3px 1px rgba(0, 0, 0, 0.15);\n",
              "      filter: drop-shadow(0px 1px 2px rgba(0, 0, 0, 0.3));\n",
              "      fill: #FFFFFF;\n",
              "    }\n",
              "  </style>\n",
              "\n",
              "      <script>\n",
              "        const buttonEl =\n",
              "          document.querySelector('#df-d7fe076d-6bab-4558-8d9a-7a996bf9eb16 button.colab-df-convert');\n",
              "        buttonEl.style.display =\n",
              "          google.colab.kernel.accessAllowed ? 'block' : 'none';\n",
              "\n",
              "        async function convertToInteractive(key) {\n",
              "          const element = document.querySelector('#df-d7fe076d-6bab-4558-8d9a-7a996bf9eb16');\n",
              "          const dataTable =\n",
              "            await google.colab.kernel.invokeFunction('convertToInteractive',\n",
              "                                                     [key], {});\n",
              "          if (!dataTable) return;\n",
              "\n",
              "          const docLinkHtml = 'Like what you see? Visit the ' +\n",
              "            '<a target=\"_blank\" href=https://colab.research.google.com/notebooks/data_table.ipynb>data table notebook</a>'\n",
              "            + ' to learn more about interactive tables.';\n",
              "          element.innerHTML = '';\n",
              "          dataTable['output_type'] = 'display_data';\n",
              "          await google.colab.output.renderOutput(dataTable, element);\n",
              "          const docLink = document.createElement('div');\n",
              "          docLink.innerHTML = docLinkHtml;\n",
              "          element.appendChild(docLink);\n",
              "        }\n",
              "      </script>\n",
              "    </div>\n",
              "  </div>\n",
              "  "
            ]
          },
          "metadata": {},
          "execution_count": 133
        }
      ]
    },
    {
      "cell_type": "code",
      "source": [
        "import pickle\n",
        "# Writing different model files to file\n",
        "with open( 'modelForPrediction1.sav', 'wb') as f:\n",
        "    pickle.dump(model,f)"
      ],
      "metadata": {
        "id": "nWP9zTF6qVCO"
      },
      "execution_count": 134,
      "outputs": []
    },
    {
      "cell_type": "code",
      "source": [
        "filename = 'modelForPrediction1.sav'\n",
        "loaded_model = pickle.load(open(filename, 'rb')) # loading the model file from the storage\n",
        "\n",
        "feature=extract_feature(\"/content/drive/MyDrive/Data sets/Revdess Data set/Actor_01/03-01-01-01-01-01-01.wav\", mfcc=True, chroma=True, mel=True)\n",
        "\n",
        "feature=feature.reshape(1,-1)\n",
        "\n",
        "prediction=loaded_model.predict(feature)\n",
        "prediction"
      ],
      "metadata": {
        "colab": {
          "base_uri": "https://localhost:8080/"
        },
        "id": "EJf11et3qX2C",
        "outputId": "a197c782-c096-4036-df3f-a2cee270ac59"
      },
      "execution_count": 135,
      "outputs": [
        {
          "output_type": "execute_result",
          "data": {
            "text/plain": [
              "array(['fearful'], dtype='<U7')"
            ]
          },
          "metadata": {},
          "execution_count": 135
        }
      ]
    },
    {
      "cell_type": "code",
      "source": [
        "feature"
      ],
      "metadata": {
        "colab": {
          "base_uri": "https://localhost:8080/"
        },
        "id": "jnLcq2tFqofP",
        "outputId": "5da6a722-6a36-4eb7-e3e0-586f9c6f655d"
      },
      "execution_count": 136,
      "outputs": [
        {
          "output_type": "execute_result",
          "data": {
            "text/plain": [
              "array([[-7.26217224e+02,  6.85414200e+01,  3.29339767e+00,\n",
              "         1.22053003e+01,  5.51027775e+00,  1.36674099e+01,\n",
              "        -2.98382854e+00,  3.09802914e+00, -3.31081343e+00,\n",
              "        -1.56438446e+00, -7.86165237e+00, -2.12428164e+00,\n",
              "         2.84920382e+00, -2.66780639e+00,  9.59020197e-01,\n",
              "         1.62816656e+00, -2.73668885e+00,  2.54240990e-01,\n",
              "         2.67537737e+00, -1.76116550e+00, -1.88647425e+00,\n",
              "        -9.75619972e-01, -3.79437268e-01,  4.00272876e-01,\n",
              "        -3.04404378e+00, -2.90125823e+00, -1.09248057e-01,\n",
              "        -8.63565266e-01, -3.33326936e+00, -1.97846520e+00,\n",
              "         4.57081497e-01, -1.39910948e+00, -2.92685509e+00,\n",
              "         1.39567470e-02, -4.90733683e-01, -5.70905447e-01,\n",
              "         4.03992198e-02, -1.20721745e+00, -1.59498155e+00,\n",
              "        -1.43648744e+00,  7.62991130e-01,  7.86087215e-01,\n",
              "         7.68469393e-01,  7.68762171e-01,  7.73639500e-01,\n",
              "         7.66558707e-01,  7.70558536e-01,  7.64969945e-01,\n",
              "         7.80013800e-01,  7.60865748e-01,  7.59408653e-01,\n",
              "         7.33647168e-01,  1.70184212e-05,  1.43234653e-03,\n",
              "         1.66232847e-02,  2.62569860e-02,  1.57336369e-02,\n",
              "         1.05670653e-02,  2.14492250e-02,  2.17550304e-02,\n",
              "         2.05241740e-02,  9.86292399e-03,  8.22031125e-03,\n",
              "         1.38155846e-02,  3.34110372e-02,  4.01227549e-02,\n",
              "         1.25717418e-02,  1.35526331e-02,  3.40261199e-02,\n",
              "         1.37796523e-02,  2.77529773e-03,  9.25028324e-03,\n",
              "         1.48122311e-02,  5.43776574e-03,  9.91153182e-04,\n",
              "         7.88527133e-04,  4.98540059e-04,  2.36146851e-04,\n",
              "         2.03896270e-04,  4.22207202e-04,  8.26913223e-04,\n",
              "         6.62424893e-04,  4.39797383e-04,  3.11295822e-04,\n",
              "         1.14664016e-03,  1.43222138e-03,  1.61550543e-03,\n",
              "         3.58627853e-03,  3.50482157e-03,  8.57215084e-04,\n",
              "         4.91613639e-04,  7.60273193e-04,  5.63600508e-04,\n",
              "         5.85349975e-04,  8.84277280e-04,  7.15176866e-04,\n",
              "         9.82289203e-04,  8.90352181e-04,  6.28136040e-04,\n",
              "         4.47051745e-04,  2.92379642e-04,  5.14131738e-04,\n",
              "         1.10657711e-03,  2.22560164e-04,  6.83896869e-05,\n",
              "         1.24022758e-04,  1.07517837e-04,  1.23518999e-04,\n",
              "         3.63318715e-04,  6.13193959e-04,  6.27402507e-04,\n",
              "         4.34549962e-04,  2.04562399e-04,  9.27749570e-05,\n",
              "         1.01075944e-04,  8.67173439e-05,  1.27217951e-04,\n",
              "         1.77796552e-04,  2.18185785e-04,  2.90769734e-04,\n",
              "         3.48016649e-04,  4.02505015e-04,  1.25046136e-04,\n",
              "         4.22618214e-05,  1.25949209e-05,  1.61569042e-05,\n",
              "         2.32865605e-05,  3.98043667e-05,  4.68669023e-05,\n",
              "         6.37071644e-05,  7.95239539e-05,  5.19483910e-05,\n",
              "         4.76786081e-05,  2.58715609e-05,  2.53992148e-05,\n",
              "         3.65142405e-05,  2.80895474e-05,  1.78097634e-05,\n",
              "         1.21044968e-05,  7.88786929e-06,  5.45318426e-06,\n",
              "         4.09992936e-06,  4.18907575e-06,  4.63753258e-06,\n",
              "         6.42819941e-06,  4.40653048e-06,  2.40225859e-06,\n",
              "         2.55696978e-06,  2.89846184e-06,  3.04017703e-06,\n",
              "         2.17823958e-06,  1.52357291e-06,  3.67811458e-06,\n",
              "         5.99873329e-06,  6.09255312e-06,  4.97983910e-06,\n",
              "         3.50488745e-06,  3.28653141e-06,  3.40272868e-06,\n",
              "         2.15000841e-06,  2.06826053e-06,  1.92395942e-06,\n",
              "         1.56269584e-06,  1.15564808e-06,  1.23618884e-06,\n",
              "         2.17852858e-06,  1.34196227e-06,  8.75932813e-07,\n",
              "         7.71947100e-07,  5.42804798e-07,  3.79851457e-07,\n",
              "         2.65911808e-07,  1.35898972e-07,  6.42145039e-08,\n",
              "         4.12492334e-08,  2.83807786e-08,  2.31362645e-08,\n",
              "         1.16047607e-08,  5.81790038e-09,  5.36213385e-09]])"
            ]
          },
          "metadata": {},
          "execution_count": 136
        }
      ]
    }
  ]
}